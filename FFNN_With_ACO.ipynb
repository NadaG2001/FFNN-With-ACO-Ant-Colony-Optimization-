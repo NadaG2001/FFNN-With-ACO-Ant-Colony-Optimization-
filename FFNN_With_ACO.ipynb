{
  "nbformat": 4,
  "nbformat_minor": 0,
  "metadata": {
    "colab": {
      "provenance": []
    },
    "kernelspec": {
      "name": "python3",
      "display_name": "Python 3"
    },
    "language_info": {
      "name": "python"
    },
    "accelerator": "GPU",
    "gpuClass": "standard"
  },
  "cells": [
    {
      "cell_type": "code",
      "execution_count": 1,
      "metadata": {
        "id": "1b8z_v725GGR"
      },
      "outputs": [],
      "source": [
        "import numpy as np\n",
        "import tensorflow as tf\n",
        "from sklearn import datasets\n",
        "from sklearn.model_selection import train_test_split\n",
        "from sklearn.preprocessing import StandardScaler"
      ]
    },
    {
      "cell_type": "code",
      "source": [
        "# Load the Iris dataset\n",
        "iris = datasets.load_iris()\n",
        "\n",
        "# Pre-process the data\n",
        "X = iris[\"data\"]\n",
        "y = iris[\"target\"]\n",
        "X = StandardScaler().fit_transform(X)"
      ],
      "metadata": {
        "id": "znV-58a65Uef"
      },
      "execution_count": 2,
      "outputs": []
    },
    {
      "cell_type": "code",
      "source": [
        "# Split the data into training and testing sets\n",
        "X_train, X_test, y_train, y_test = train_test_split(\n",
        "    X, y, test_size=0.3, random_state=0)"
      ],
      "metadata": {
        "id": "WXHsMnni5gUQ"
      },
      "execution_count": 3,
      "outputs": []
    },
    {
      "cell_type": "code",
      "source": [
        "# Create a function to build the FFNN\n",
        "\n",
        "\n",
        "def build_model(input_shape, output_shape):\n",
        "    model = tf.keras.Sequential()\n",
        "    model.add(tf.keras.layers.Dense(\n",
        "        10, input_shape=input_shape, activation='relu'))\n",
        "    model.add(tf.keras.layers.Dense(10, activation='relu'))\n",
        "    model.add(tf.keras.layers.Dense(output_shape, activation='softmax'))\n",
        "    model.compile(loss='sparse_categorical_crossentropy',\n",
        "                  optimizer='adam', metrics=['accuracy'])\n",
        "    return model"
      ],
      "metadata": {
        "id": "0ebGBXVk5j7h"
      },
      "execution_count": 4,
      "outputs": []
    },
    {
      "cell_type": "code",
      "source": [
        "# Initialize the FFNN\n",
        "input_shape = (X_train.shape[1],)\n",
        "output_shape = np.unique(y_train).shape[0]"
      ],
      "metadata": {
        "id": "6hzjtHuk5pD1"
      },
      "execution_count": 5,
      "outputs": []
    },
    {
      "cell_type": "code",
      "source": [
        "# Train the FFNN using the modified ACO algorithm\n",
        "best_weights = None\n",
        "best_accuracy = 0\n",
        "for i in range(50):  # number of ants\n",
        "    # Initialize a new model for each ant\n",
        "    model = build_model(input_shape, output_shape)\n",
        "    # Fit the model for each ant\n",
        "    model.fit(X_train, y_train, epochs=100, verbose=0)\n",
        "    accuracy = model.evaluate(X_test, y_test, verbose=0)[\n",
        "        1]  # evaluate the model for each ant\n",
        "    if accuracy > best_accuracy:\n",
        "        best_weights = model.get_weights()\n",
        "        best_accuracy = accuracy"
      ],
      "metadata": {
        "id": "y7JYFQjh5tEv"
      },
      "execution_count": 7,
      "outputs": []
    },
    {
      "cell_type": "code",
      "source": [
        "# Create the final model with the best weights\n",
        "final_model = build_model(input_shape, output_shape)\n",
        "final_model.set_weights(best_weights)"
      ],
      "metadata": {
        "id": "lp1VpGzQ6Mvl"
      },
      "execution_count": 9,
      "outputs": []
    },
    {
      "cell_type": "code",
      "source": [
        "# evaluate the final model\n",
        "accuracy = final_model.evaluate(X_test, y_test, verbose=0)[1]\n",
        "print(\"Accuracy:\", accuracy)"
      ],
      "metadata": {
        "colab": {
          "base_uri": "https://localhost:8080/"
        },
        "id": "EEIT1BQt6oaO",
        "outputId": "98962d73-242e-4404-80ac-7f2f8822e042"
      },
      "execution_count": 10,
      "outputs": [
        {
          "output_type": "stream",
          "name": "stdout",
          "text": [
            "Accuracy: 0.9777777791023254\n"
          ]
        }
      ]
    },
    {
      "cell_type": "code",
      "source": [],
      "metadata": {
        "id": "BNPou79n6rye"
      },
      "execution_count": null,
      "outputs": []
    }
  ]
}